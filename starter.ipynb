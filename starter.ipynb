{
  "cells": [
    {
      "cell_type": "markdown",
      "id": "78d203c2-4edd-41ed-a45d-dc1fc92fa697",
      "metadata": {
        "id": "78d203c2-4edd-41ed-a45d-dc1fc92fa697"
      },
      "source": [
        "# Bert baseline for POLAR"
      ]
    },
    {
      "cell_type": "markdown",
      "id": "ea01ed9f-399e-4b8a-b46f-49369a33ee31",
      "metadata": {
        "id": "ea01ed9f-399e-4b8a-b46f-49369a33ee31"
      },
      "source": [
        "## Introduction\n",
        "\n",
        "In this part of the starter notebook, we will take you through the process of all three Subtasks."
      ]
    },
    {
      "cell_type": "markdown",
      "id": "aIt64l96d4TR",
      "metadata": {
        "id": "aIt64l96d4TR"
      },
      "source": [
        "## Subtask 1 - Polarization detection\n",
        "\n",
        "This is a binary classification to determine whether a post contains polarized content (Polarized or Not Polarized)."
      ]
    },
    {
      "cell_type": "code",
      "execution_count": null,
      "id": "e5w0WSE89hdW",
      "metadata": {
        "id": "e5w0WSE89hdW"
      },
      "outputs": [],
      "source": [
        "!unzip dev_phase.zip"
      ]
    },
    {
      "cell_type": "markdown",
      "id": "843cbd77-1b7f-41df-aec8-1d53fe1199c2",
      "metadata": {
        "id": "843cbd77-1b7f-41df-aec8-1d53fe1199c2"
      },
      "source": [
        "## Imports"
      ]
    },
    {
      "cell_type": "code",
      "execution_count": 1,
      "id": "434eb165",
      "metadata": {},
      "outputs": [
        {
          "name": "stderr",
          "output_type": "stream",
          "text": [
            "/Users/tejo9855/Documents/Classes/Fall '25/NLP - Martin/Assignments/SemEval2026-task9/.venv/lib/python3.13/site-packages/tqdm/auto.py:21: TqdmWarning: IProgress not found. Please update jupyter and ipywidgets. See https://ipywidgets.readthedocs.io/en/stable/user_install.html\n",
            "  from .autonotebook import tqdm as notebook_tqdm\n"
          ]
        },
        {
          "name": "stdout",
          "output_type": "stream",
          "text": [
            "/Users/tejo9855/Documents/Classes/Fall '25/NLP - Martin/Assignments/SemEval2026-task9/.venv/lib/python3.13/site-packages/transformers/__init__.py\n"
          ]
        }
      ],
      "source": [
        "import transformers\n",
        "print(transformers.__file__)\n"
      ]
    },
    {
      "cell_type": "code",
      "execution_count": 2,
      "id": "72e1ae94",
      "metadata": {},
      "outputs": [],
      "source": [
        "from collections import Counter"
      ]
    },
    {
      "cell_type": "code",
      "execution_count": 3,
      "id": "c47ddfdc",
      "metadata": {},
      "outputs": [],
      "source": [
        "from transformers import TrainingArguments"
      ]
    },
    {
      "cell_type": "code",
      "execution_count": 4,
      "id": "5b8e9d6e-9342-43fd-9a0a-1330caf4e23a",
      "metadata": {
        "id": "5b8e9d6e-9342-43fd-9a0a-1330caf4e23a"
      },
      "outputs": [],
      "source": [
        "import pandas as pd\n",
        "\n",
        "from sklearn.metrics import recall_score, precision_score, f1_score\n",
        "import numpy as np\n",
        "\n",
        "import torch\n",
        "\n",
        "from sklearn.metrics import f1_score\n",
        "\n",
        "from transformers import (\n",
        "    AutoTokenizer,\n",
        "    AutoConfig,\n",
        "    AutoModelForSequenceClassification,\n",
        "    Trainer,\n",
        "    TrainingArguments,\n",
        "    DataCollatorWithPadding\n",
        ")\n",
        "from torch.utils.data import Dataset"
      ]
    },
    {
      "cell_type": "code",
      "execution_count": 54,
      "id": "UkC2r47nManC",
      "metadata": {
        "id": "UkC2r47nManC"
      },
      "outputs": [
        {
          "name": "stderr",
          "output_type": "stream",
          "text": [
            "huggingface/tokenizers: The current process just got forked, after parallelism has already been used. Disabling parallelism to avoid deadlocks...\n",
            "To disable this warning, you can either:\n",
            "\t- Avoid using `tokenizers` before the fork if possible\n",
            "\t- Explicitly set the environment variable TOKENIZERS_PARALLELISM=(true | false)\n"
          ]
        },
        {
          "data": {
            "text/html": [
              "<button onClick=\"this.nextSibling.style.display='block';this.style.display='none';\">Display W&B run</button><iframe src='https://wandb.ai/dummy/dummy/runs/k6v7246j?jupyter=true' style='border:none;width:100%;height:420px;display:none;'></iframe>"
            ],
            "text/plain": [
              "<wandb.sdk.wandb_run.Run at 0x30a9c5950>"
            ]
          },
          "execution_count": 54,
          "metadata": {},
          "output_type": "execute_result"
        }
      ],
      "source": [
        "import wandb\n",
        "\n",
        "# Disable wandb logging for this script\n",
        "wandb.init(mode=\"disabled\")"
      ]
    },
    {
      "cell_type": "markdown",
      "id": "4dac92ad-3fac-4aa1-aae6-1fe3ad14b1c0",
      "metadata": {
        "id": "4dac92ad-3fac-4aa1-aae6-1fe3ad14b1c0"
      },
      "source": [
        "## Data Import\n",
        "\n",
        "The training data consists of a short text and binary labels\n",
        "\n",
        "The data is structured as a CSV file with the following fields:\n",
        "- id: a unique identifier for the sample\n",
        "- text: a sentence or short text\n",
        "- polarization:  1 text is polarized, 0 text is not polarized\n",
        "\n",
        "The data is in all three subtask folders the same but only containing the labels for the specific task."
      ]
    },
    {
      "cell_type": "code",
      "execution_count": 55,
      "id": "e4fe8cc2-ba47-4240-bdd2-b1d3ea323134",
      "metadata": {
        "id": "e4fe8cc2-ba47-4240-bdd2-b1d3ea323134"
      },
      "outputs": [
        {
          "data": {
            "text/html": [
              "<div>\n",
              "<style scoped>\n",
              "    .dataframe tbody tr th:only-of-type {\n",
              "        vertical-align: middle;\n",
              "    }\n",
              "\n",
              "    .dataframe tbody tr th {\n",
              "        vertical-align: top;\n",
              "    }\n",
              "\n",
              "    .dataframe thead th {\n",
              "        text-align: right;\n",
              "    }\n",
              "</style>\n",
              "<table border=\"1\" class=\"dataframe\">\n",
              "  <thead>\n",
              "    <tr style=\"text-align: right;\">\n",
              "      <th></th>\n",
              "      <th>id</th>\n",
              "      <th>text</th>\n",
              "      <th>polarization</th>\n",
              "    </tr>\n",
              "  </thead>\n",
              "  <tbody>\n",
              "    <tr>\n",
              "      <th>0</th>\n",
              "      <td>en_973938b90b0ff5d87d35a582f83f5c89</td>\n",
              "      <td>is defending imperialism in the dnd chat</td>\n",
              "      <td>0</td>\n",
              "    </tr>\n",
              "    <tr>\n",
              "      <th>1</th>\n",
              "      <td>en_07dfd4600426caca6e2c5883fcbea9ea</td>\n",
              "      <td>Still playing with this. I am now following Ra...</td>\n",
              "      <td>0</td>\n",
              "    </tr>\n",
              "    <tr>\n",
              "      <th>2</th>\n",
              "      <td>en_f14519ff2302b6cd47712073f13bc461</td>\n",
              "      <td>.senate.gov Theres 3 groups out there Republic...</td>\n",
              "      <td>0</td>\n",
              "    </tr>\n",
              "    <tr>\n",
              "      <th>3</th>\n",
              "      <td>en_e48b7e7542faafa544ac57b64bc80daf</td>\n",
              "      <td>\"ABC MD, David Anderson, said the additional f...</td>\n",
              "      <td>0</td>\n",
              "    </tr>\n",
              "    <tr>\n",
              "      <th>4</th>\n",
              "      <td>en_7c581fb77bce8033aeba3d6dbd6273eb</td>\n",
              "      <td>\"bad people\" I have some conservative values s...</td>\n",
              "      <td>0</td>\n",
              "    </tr>\n",
              "  </tbody>\n",
              "</table>\n",
              "</div>"
            ],
            "text/plain": [
              "                                    id  \\\n",
              "0  en_973938b90b0ff5d87d35a582f83f5c89   \n",
              "1  en_07dfd4600426caca6e2c5883fcbea9ea   \n",
              "2  en_f14519ff2302b6cd47712073f13bc461   \n",
              "3  en_e48b7e7542faafa544ac57b64bc80daf   \n",
              "4  en_7c581fb77bce8033aeba3d6dbd6273eb   \n",
              "\n",
              "                                                text  polarization  \n",
              "0           is defending imperialism in the dnd chat             0  \n",
              "1  Still playing with this. I am now following Ra...             0  \n",
              "2  .senate.gov Theres 3 groups out there Republic...             0  \n",
              "3  \"ABC MD, David Anderson, said the additional f...             0  \n",
              "4  \"bad people\" I have some conservative values s...             0  "
            ]
          },
          "execution_count": 55,
          "metadata": {},
          "output_type": "execute_result"
        }
      ],
      "source": [
        "# Load the training and validation data for subtask 1\n",
        "\n",
        "train = pd.read_csv('subtask1/train/eng.csv')\n",
        "val = pd.read_csv('subtask1/train/eng.csv')\n",
        "\n",
        "train.head()"
      ]
    },
    {
      "cell_type": "code",
      "execution_count": 75,
      "id": "0b64eb54",
      "metadata": {},
      "outputs": [],
      "source": [
        "test = pd.read_csv('subtask1/dev/eng.csv')"
      ]
    },
    {
      "cell_type": "code",
      "execution_count": 92,
      "id": "573ce92e",
      "metadata": {},
      "outputs": [
        {
          "data": {
            "text/html": [
              "<div>\n",
              "<style scoped>\n",
              "    .dataframe tbody tr th:only-of-type {\n",
              "        vertical-align: middle;\n",
              "    }\n",
              "\n",
              "    .dataframe tbody tr th {\n",
              "        vertical-align: top;\n",
              "    }\n",
              "\n",
              "    .dataframe thead th {\n",
              "        text-align: right;\n",
              "    }\n",
              "</style>\n",
              "<table border=\"1\" class=\"dataframe\">\n",
              "  <thead>\n",
              "    <tr style=\"text-align: right;\">\n",
              "      <th></th>\n",
              "      <th>id</th>\n",
              "      <th>text</th>\n",
              "      <th>polarization</th>\n",
              "    </tr>\n",
              "  </thead>\n",
              "  <tbody>\n",
              "    <tr>\n",
              "      <th>0</th>\n",
              "      <td>en_f66ca14d60851371f9720aaf4ccd9b58</td>\n",
              "      <td>God is with Ukraine and Zelensky</td>\n",
              "      <td>NaN</td>\n",
              "    </tr>\n",
              "    <tr>\n",
              "      <th>1</th>\n",
              "      <td>en_3a489aa7fed9726aa8d3d4fe74c57efb</td>\n",
              "      <td>4 Dems, 2 Republicans Luzerne County Council s...</td>\n",
              "      <td>NaN</td>\n",
              "    </tr>\n",
              "    <tr>\n",
              "      <th>2</th>\n",
              "      <td>en_95770ff547ea5e48b0be00f385986483</td>\n",
              "      <td>Abuse Survivor Recounts Her Struggles at YWCA ...</td>\n",
              "      <td>NaN</td>\n",
              "    </tr>\n",
              "    <tr>\n",
              "      <th>3</th>\n",
              "      <td>en_2048ae6f9aa261c48e6d777bcc5b38bf</td>\n",
              "      <td>After Rwanda, another deportation camp disaster</td>\n",
              "      <td>NaN</td>\n",
              "    </tr>\n",
              "    <tr>\n",
              "      <th>4</th>\n",
              "      <td>en_07781aa88e61e7c0a996abd1e5ea3a20</td>\n",
              "      <td>Another plea in Trump election interference probe</td>\n",
              "      <td>NaN</td>\n",
              "    </tr>\n",
              "    <tr>\n",
              "      <th>...</th>\n",
              "      <td>...</td>\n",
              "      <td>...</td>\n",
              "      <td>...</td>\n",
              "    </tr>\n",
              "    <tr>\n",
              "      <th>128</th>\n",
              "      <td>en_2fd4484b6bab80971a96b2100e20966a</td>\n",
              "      <td>Should run for GOP press. LOL</td>\n",
              "      <td>NaN</td>\n",
              "    </tr>\n",
              "    <tr>\n",
              "      <th>129</th>\n",
              "      <td>en_0e11358da0c0e0cd8e0fdedf05a0cbba</td>\n",
              "      <td>The shampoo will rinse down in the shower, and...</td>\n",
              "      <td>NaN</td>\n",
              "    </tr>\n",
              "    <tr>\n",
              "      <th>130</th>\n",
              "      <td>en_0fb944d51bb376102a3ea6b65bafab6a</td>\n",
              "      <td>Tomorrow Mike Pence is in love with bussy</td>\n",
              "      <td>NaN</td>\n",
              "    </tr>\n",
              "    <tr>\n",
              "      <th>131</th>\n",
              "      <td>en_d9253eaeb206934208a57786b688c316</td>\n",
              "      <td>Unknown gunmen have shot and killed an Israeli...</td>\n",
              "      <td>NaN</td>\n",
              "    </tr>\n",
              "    <tr>\n",
              "      <th>132</th>\n",
              "      <td>en_d841e099c41eb0fdd803e7c0a6109933</td>\n",
              "      <td>we build a wall around the red states and cele...</td>\n",
              "      <td>NaN</td>\n",
              "    </tr>\n",
              "  </tbody>\n",
              "</table>\n",
              "<p>133 rows × 3 columns</p>\n",
              "</div>"
            ],
            "text/plain": [
              "                                      id  \\\n",
              "0    en_f66ca14d60851371f9720aaf4ccd9b58   \n",
              "1    en_3a489aa7fed9726aa8d3d4fe74c57efb   \n",
              "2    en_95770ff547ea5e48b0be00f385986483   \n",
              "3    en_2048ae6f9aa261c48e6d777bcc5b38bf   \n",
              "4    en_07781aa88e61e7c0a996abd1e5ea3a20   \n",
              "..                                   ...   \n",
              "128  en_2fd4484b6bab80971a96b2100e20966a   \n",
              "129  en_0e11358da0c0e0cd8e0fdedf05a0cbba   \n",
              "130  en_0fb944d51bb376102a3ea6b65bafab6a   \n",
              "131  en_d9253eaeb206934208a57786b688c316   \n",
              "132  en_d841e099c41eb0fdd803e7c0a6109933   \n",
              "\n",
              "                                                  text  polarization  \n",
              "0                     God is with Ukraine and Zelensky           NaN  \n",
              "1    4 Dems, 2 Republicans Luzerne County Council s...           NaN  \n",
              "2    Abuse Survivor Recounts Her Struggles at YWCA ...           NaN  \n",
              "3      After Rwanda, another deportation camp disaster           NaN  \n",
              "4    Another plea in Trump election interference probe           NaN  \n",
              "..                                                 ...           ...  \n",
              "128                      Should run for GOP press. LOL           NaN  \n",
              "129  The shampoo will rinse down in the shower, and...           NaN  \n",
              "130          Tomorrow Mike Pence is in love with bussy           NaN  \n",
              "131  Unknown gunmen have shot and killed an Israeli...           NaN  \n",
              "132  we build a wall around the red states and cele...           NaN  \n",
              "\n",
              "[133 rows x 3 columns]"
            ]
          },
          "execution_count": 92,
          "metadata": {},
          "output_type": "execute_result"
        }
      ],
      "source": [
        "test"
      ]
    },
    {
      "cell_type": "code",
      "execution_count": 56,
      "id": "d6b9ee21",
      "metadata": {},
      "outputs": [
        {
          "data": {
            "text/plain": [
              "2676"
            ]
          },
          "execution_count": 56,
          "metadata": {},
          "output_type": "execute_result"
        }
      ],
      "source": [
        "len(train)"
      ]
    },
    {
      "cell_type": "code",
      "execution_count": 57,
      "id": "4bd4355e",
      "metadata": {},
      "outputs": [
        {
          "data": {
            "text/plain": [
              "Counter({0: 1674, 1: 1002})"
            ]
          },
          "execution_count": 57,
          "metadata": {},
          "output_type": "execute_result"
        }
      ],
      "source": [
        "Counter(val.polarization)"
      ]
    },
    {
      "cell_type": "markdown",
      "id": "eQWDFio83z9g",
      "metadata": {
        "id": "eQWDFio83z9g"
      },
      "source": [
        "# Dataset\n",
        "-  Create a pytorch class for handling data\n",
        "-  Wrapping the raw texts and labels into a format that Huggingface’s Trainer can use for training and evaluation"
      ]
    },
    {
      "cell_type": "code",
      "execution_count": 58,
      "id": "8e749d08",
      "metadata": {
        "id": "8e749d08"
      },
      "outputs": [],
      "source": [
        "# Fix the dataset class by inheriting from torch.utils.data.Dataset\n",
        "class PolarizationDataset(torch.utils.data.Dataset):\n",
        "  def __init__(self,texts,labels,tokenizer,max_length =128):\n",
        "    self.texts=texts\n",
        "    self.labels=labels\n",
        "    self.tokenizer= tokenizer\n",
        "    self.max_length = max_length # Store max_length\n",
        "\n",
        "  def __len__(self):\n",
        "    return len(self.texts)\n",
        "\n",
        "  def __getitem__(self,idx):\n",
        "    text=self.texts[idx]\n",
        "    label=self.labels[idx]\n",
        "    encoding=self.tokenizer(text,truncation=True,padding=False,max_length=self.max_length,return_tensors='pt')\n",
        "\n",
        "    # Ensure consistent tensor conversion for all items\n",
        "    item = {key: encoding[key].squeeze() for key in encoding.keys()}\n",
        "    item['labels'] = torch.tensor(label, dtype=torch.long)\n",
        "    return item"
      ]
    },
    {
      "cell_type": "code",
      "execution_count": 82,
      "id": "03049fb0",
      "metadata": {},
      "outputs": [],
      "source": [
        "class TestPolarizationDataset(torch.utils.data.Dataset):\n",
        "    def __init__(self, texts, labels=None, tokenizer=None, max_length=128, ids=None):\n",
        "        self.texts = texts\n",
        "        self.labels = labels\n",
        "        self.tokenizer = tokenizer\n",
        "        self.max_length = max_length\n",
        "\n",
        "    def __len__(self):\n",
        "        return len(self.texts)\n",
        "\n",
        "    def __getitem__(self, idx):\n",
        "        text = self.texts[idx]\n",
        "        encoding = self.tokenizer(text, truncation=True, padding=False, max_length=self.max_length, return_tensors='pt')\n",
        "        item = {key: encoding[key].squeeze() for key in encoding.keys()}\n",
        "        return item"
      ]
    },
    {
      "cell_type": "markdown",
      "id": "adfb74a3",
      "metadata": {
        "id": "adfb74a3"
      },
      "source": [
        "Now, we'll tokenize the text data and create the datasets using `bert-base-uncased` as the tokenizer."
      ]
    },
    {
      "cell_type": "code",
      "execution_count": 59,
      "id": "c2e6215b",
      "metadata": {
        "id": "c2e6215b"
      },
      "outputs": [],
      "source": [
        "# Load the tokenizer\n",
        "tokenizer = AutoTokenizer.from_pretrained('distilbert-base-uncased')\n",
        "\n",
        "# Create datasets\n",
        "train_dataset = PolarizationDataset(train['text'].tolist(), train['polarization'].tolist(), tokenizer)\n",
        "val_dataset = PolarizationDataset(val['text'].tolist(), val['polarization'].tolist(), tokenizer)"
      ]
    },
    {
      "cell_type": "code",
      "execution_count": 83,
      "id": "bbf04bf2",
      "metadata": {},
      "outputs": [],
      "source": [
        "test_dataset = TestPolarizationDataset(test['text'].tolist(), test['polarization'].tolist(), tokenizer)"
      ]
    },
    {
      "cell_type": "code",
      "execution_count": 61,
      "id": "c3aea6fa",
      "metadata": {},
      "outputs": [
        {
          "data": {
            "text/plain": [
              "{0, 1}"
            ]
          },
          "execution_count": 61,
          "metadata": {},
          "output_type": "execute_result"
        }
      ],
      "source": [
        "set(train_dataset.labels)"
      ]
    },
    {
      "cell_type": "code",
      "execution_count": 62,
      "id": "48e3c5f7",
      "metadata": {},
      "outputs": [],
      "source": [
        "str_len_list = []\n",
        "for text in train_dataset.texts:\n",
        "    str_len_list.append(len(text))"
      ]
    },
    {
      "cell_type": "code",
      "execution_count": 63,
      "id": "d7160881",
      "metadata": {},
      "outputs": [
        {
          "data": {
            "text/plain": [
              "299"
            ]
          },
          "execution_count": 63,
          "metadata": {},
          "output_type": "execute_result"
        }
      ],
      "source": [
        "max(str_len_list)"
      ]
    },
    {
      "cell_type": "markdown",
      "id": "b13caa5c",
      "metadata": {
        "id": "b13caa5c"
      },
      "source": [
        "Next, we'll load the pre-trained `bert-base-uncased` model for sequence classification. Since this is a binary classification task (Polarized/Not Polarized), we set `num_labels=2`."
      ]
    },
    {
      "cell_type": "code",
      "execution_count": 64,
      "id": "7cd0411f",
      "metadata": {
        "id": "7cd0411f"
      },
      "outputs": [
        {
          "name": "stderr",
          "output_type": "stream",
          "text": [
            "Some weights of DistilBertForSequenceClassification were not initialized from the model checkpoint at distilbert-base-uncased and are newly initialized: ['classifier.bias', 'classifier.weight', 'pre_classifier.bias', 'pre_classifier.weight']\n",
            "You should probably TRAIN this model on a down-stream task to be able to use it for predictions and inference.\n"
          ]
        }
      ],
      "source": [
        "# Load the model\n",
        "model = AutoModelForSequenceClassification.from_pretrained('distilbert-base-uncased', num_labels=2)"
      ]
    },
    {
      "cell_type": "markdown",
      "id": "b250d61e",
      "metadata": {
        "id": "b250d61e"
      },
      "source": [
        "Now, we'll define the training arguments and the evaluation metric. We'll use macro F1 score for evaluation."
      ]
    },
    {
      "cell_type": "code",
      "execution_count": 65,
      "id": "21c97269",
      "metadata": {
        "id": "21c97269"
      },
      "outputs": [
        {
          "name": "stderr",
          "output_type": "stream",
          "text": [
            "/Users/tejo9855/Documents/Classes/Fall '25/NLP - Martin/Assignments/SemEval2026-task9/.venv/lib/python3.13/site-packages/transformers/training_args.py:1636: FutureWarning: using `no_cuda` is deprecated and will be removed in version 5.0 of 🤗 Transformers. Use `use_cpu` instead\n",
            "  warnings.warn(\n"
          ]
        }
      ],
      "source": [
        "# Define metrics function\n",
        "def compute_metrics(p):\n",
        "    preds = np.argmax(p.predictions, axis=1)\n",
        "    return {'f1_macro': f1_score(p.label_ids, preds, average='macro')}\n",
        "\n",
        "# Define training arguments\n",
        "training_args = TrainingArguments(\n",
        "        output_dir=f\"./\",\n",
        "        num_train_epochs=1,\n",
        "        learning_rate=2e-5,\n",
        "        per_device_train_batch_size=4,\n",
        "        per_device_eval_batch_size=2,\n",
        "        eval_strategy=\"epoch\",\n",
        "        save_strategy=\"no\",\n",
        "        # logging_steps=100,\n",
        "        logging_strategy=\"no\",\n",
        "        disable_tqdm=False,\n",
        "        no_cuda=True\n",
        "    )\n"
      ]
    },
    {
      "cell_type": "markdown",
      "id": "20167a2b",
      "metadata": {
        "id": "20167a2b"
      },
      "source": [
        "Finally, we'll initialize the `Trainer` and start training."
      ]
    },
    {
      "cell_type": "code",
      "execution_count": 66,
      "id": "ecd9f444",
      "metadata": {
        "id": "ecd9f444"
      },
      "outputs": [],
      "source": [
        "# Initialize the Trainer\n",
        "trainer = Trainer(\n",
        "    model=model,                         # the instantiated 🤗 Transformers model to be trained\n",
        "    args=training_args,                  # training arguments, defined above\n",
        "    train_dataset=train_dataset,         # training dataset\n",
        "    eval_dataset=val_dataset,            # evaluation dataset\n",
        "    compute_metrics=compute_metrics,     # the callback that computes metrics of interest\n",
        "    data_collator=DataCollatorWithPadding(tokenizer) # Data collator for dynamic padding\n",
        ")"
      ]
    },
    {
      "cell_type": "code",
      "execution_count": null,
      "id": "d5fa5575",
      "metadata": {},
      "outputs": [],
      "source": []
    },
    {
      "cell_type": "code",
      "execution_count": 67,
      "id": "107fa2be",
      "metadata": {},
      "outputs": [
        {
          "data": {
            "text/html": [
              "\n",
              "    <div>\n",
              "      \n",
              "      <progress value='669' max='669' style='width:300px; height:20px; vertical-align: middle;'></progress>\n",
              "      [669/669 01:32, Epoch 1/1]\n",
              "    </div>\n",
              "    <table border=\"1\" class=\"dataframe\">\n",
              "  <thead>\n",
              " <tr style=\"text-align: left;\">\n",
              "      <th>Epoch</th>\n",
              "      <th>Training Loss</th>\n",
              "      <th>Validation Loss</th>\n",
              "      <th>F1 Macro</th>\n",
              "    </tr>\n",
              "  </thead>\n",
              "  <tbody>\n",
              "    <tr>\n",
              "      <td>1</td>\n",
              "      <td>No log</td>\n",
              "      <td>0.341643</td>\n",
              "      <td>0.845860</td>\n",
              "    </tr>\n",
              "  </tbody>\n",
              "</table><p>"
            ],
            "text/plain": [
              "<IPython.core.display.HTML object>"
            ]
          },
          "metadata": {},
          "output_type": "display_data"
        },
        {
          "data": {
            "text/plain": [
              "TrainOutput(global_step=669, training_loss=0.4925452262296805, metrics={'train_runtime': 92.8414, 'train_samples_per_second': 28.823, 'train_steps_per_second': 7.206, 'total_flos': 20533481693232.0, 'train_loss': 0.4925452262296805, 'epoch': 1.0})"
            ]
          },
          "execution_count": 67,
          "metadata": {},
          "output_type": "execute_result"
        }
      ],
      "source": [
        "# Train the model\n",
        "trainer.train()"
      ]
    },
    {
      "cell_type": "code",
      "execution_count": 68,
      "id": "fba328c0",
      "metadata": {},
      "outputs": [
        {
          "data": {
            "text/html": [],
            "text/plain": [
              "<IPython.core.display.HTML object>"
            ]
          },
          "metadata": {},
          "output_type": "display_data"
        },
        {
          "name": "stdout",
          "output_type": "stream",
          "text": [
            "Macro F1 score on validation set: 0.8458601714415668\n"
          ]
        }
      ],
      "source": [
        "\n",
        "# Evaluate the model on the validation set\n",
        "eval_results = trainer.evaluate()\n",
        "print(f\"Macro F1 score on validation set: {eval_results['eval_f1_macro']}\")"
      ]
    },
    {
      "cell_type": "code",
      "execution_count": 84,
      "id": "f76524c6",
      "metadata": {},
      "outputs": [
        {
          "data": {
            "text/html": [],
            "text/plain": [
              "<IPython.core.display.HTML object>"
            ]
          },
          "metadata": {},
          "output_type": "display_data"
        }
      ],
      "source": [
        "predictions = trainer.predict(test_dataset)"
      ]
    },
    {
      "cell_type": "code",
      "execution_count": 97,
      "id": "beae3f86",
      "metadata": {},
      "outputs": [
        {
          "data": {
            "text/plain": [
              "array([[ 0.80841994, -0.95065427],\n",
              "       [ 1.7726249 , -2.0752807 ],\n",
              "       [ 1.5228413 , -2.074303  ],\n",
              "       [ 1.274685  , -1.7090815 ],\n",
              "       [ 1.65749   , -2.0647178 ],\n",
              "       [ 1.5189959 , -1.9382255 ],\n",
              "       [ 0.362134  , -0.801064  ],\n",
              "       [ 1.8673475 , -2.3095307 ],\n",
              "       [ 1.8860964 , -2.3123853 ],\n",
              "       [ 0.12346455, -0.582104  ],\n",
              "       [ 1.8749917 , -2.3235226 ],\n",
              "       [ 1.9421335 , -2.4173486 ],\n",
              "       [-0.8257258 ,  0.7105239 ],\n",
              "       [ 1.7407446 , -2.257275  ],\n",
              "       [ 1.8449645 , -2.2399752 ],\n",
              "       [ 1.8535681 , -2.3629668 ],\n",
              "       [ 1.8661692 , -2.4241593 ],\n",
              "       [ 1.371798  , -1.848873  ],\n",
              "       [ 1.6753466 , -2.1952906 ],\n",
              "       [-0.9580275 ,  0.92904997],\n",
              "       [ 1.8522745 , -2.3188694 ],\n",
              "       [ 1.8405004 , -2.2848642 ],\n",
              "       [ 1.4821299 , -1.8248116 ],\n",
              "       [ 1.2656393 , -1.6960965 ],\n",
              "       [ 1.6848361 , -2.184631  ],\n",
              "       [ 1.1265047 , -1.3484718 ],\n",
              "       [ 1.707003  , -2.1666794 ],\n",
              "       [ 1.7333535 , -2.179791  ],\n",
              "       [ 1.5168521 , -2.0056384 ],\n",
              "       [ 1.4206575 , -1.9523541 ],\n",
              "       [ 1.7939855 , -2.23577   ],\n",
              "       [ 1.4733728 , -1.8059801 ],\n",
              "       [ 0.97998804, -1.3935034 ],\n",
              "       [ 1.6441776 , -2.1252728 ],\n",
              "       [ 1.8415339 , -2.3540204 ],\n",
              "       [ 1.8356746 , -2.3112895 ],\n",
              "       [ 1.7324011 , -2.2346315 ],\n",
              "       [ 1.1433529 , -1.505327  ],\n",
              "       [ 1.8578916 , -2.373101  ],\n",
              "       [-0.8838887 ,  0.71868986],\n",
              "       [ 0.7627232 , -1.0691403 ],\n",
              "       [ 1.4424961 , -1.8950135 ],\n",
              "       [ 1.6675329 , -2.1498387 ],\n",
              "       [-0.46899214,  0.5522926 ],\n",
              "       [ 0.4641996 , -0.7230184 ],\n",
              "       [ 1.7878162 , -2.3308656 ],\n",
              "       [ 1.8936378 , -2.2838452 ],\n",
              "       [ 0.6572219 , -0.8684058 ],\n",
              "       [ 1.1097418 , -1.4968331 ],\n",
              "       [ 0.8583651 , -1.202146  ],\n",
              "       [-0.07642295, -0.1619953 ],\n",
              "       [ 1.7651185 , -2.228155  ],\n",
              "       [ 0.9385753 , -1.10941   ],\n",
              "       [ 1.5571201 , -1.9244169 ],\n",
              "       [ 1.844689  , -2.3684344 ],\n",
              "       [ 1.7758801 , -2.1483643 ],\n",
              "       [ 1.577063  , -2.1266282 ],\n",
              "       [-0.86660236,  0.66906834],\n",
              "       [ 0.9938104 , -1.4487942 ],\n",
              "       [ 0.4153157 , -0.74069744],\n",
              "       [ 1.4303774 , -1.6372441 ],\n",
              "       [ 1.6403056 , -2.0724013 ],\n",
              "       [ 1.8824039 , -2.3349342 ],\n",
              "       [ 1.9214838 , -2.402472  ],\n",
              "       [ 1.4800353 , -1.9793389 ],\n",
              "       [ 0.14126247, -0.24439773],\n",
              "       [ 1.0992749 , -1.4638025 ],\n",
              "       [ 1.355741  , -1.8267286 ],\n",
              "       [-0.25822642,  0.31494978],\n",
              "       [ 0.8994753 , -1.5987681 ],\n",
              "       [ 1.5908314 , -2.000022  ],\n",
              "       [ 0.563764  , -0.8614446 ],\n",
              "       [ 1.4393326 , -1.9286782 ],\n",
              "       [ 1.8290527 , -2.4185703 ],\n",
              "       [-0.81263864,  0.7183823 ],\n",
              "       [ 1.4763817 , -1.9379265 ],\n",
              "       [-0.10016662, -0.16935986],\n",
              "       [-0.07080968,  0.03508268],\n",
              "       [ 1.5229807 , -1.934241  ],\n",
              "       [ 1.7214404 , -2.1854684 ],\n",
              "       [ 0.149028  , -0.24754761],\n",
              "       [ 1.4935327 , -1.9334495 ],\n",
              "       [-1.3238233 ,  1.2412457 ],\n",
              "       [ 1.2545342 , -1.6237197 ],\n",
              "       [-1.2937468 ,  1.1944886 ],\n",
              "       [-1.0130482 ,  1.068426  ],\n",
              "       [-1.1855936 ,  0.89225423],\n",
              "       [-1.2618512 ,  1.1244652 ],\n",
              "       [ 0.6993389 , -0.9480452 ],\n",
              "       [ 1.3804984 , -1.8269994 ],\n",
              "       [-1.154416  ,  1.094765  ],\n",
              "       [ 1.3938303 , -1.825777  ],\n",
              "       [-0.09781044, -0.06860334],\n",
              "       [ 1.5314405 , -1.9920005 ],\n",
              "       [ 1.1732262 , -1.5313287 ],\n",
              "       [ 0.37131354, -0.6968686 ],\n",
              "       [-0.82808274,  0.82832545],\n",
              "       [-1.1664286 ,  1.2222104 ],\n",
              "       [-1.2751257 ,  1.0259124 ],\n",
              "       [-1.2930229 ,  1.205997  ],\n",
              "       [-1.0562325 ,  0.830254  ],\n",
              "       [ 0.8379646 , -1.2588772 ],\n",
              "       [ 0.4344344 , -0.66354394],\n",
              "       [-0.531845  ,  0.46852157],\n",
              "       [ 1.2715025 , -1.5937469 ],\n",
              "       [-1.3795679 ,  1.3155596 ],\n",
              "       [-1.2939253 ,  1.2223788 ],\n",
              "       [-1.3612366 ,  1.3161874 ],\n",
              "       [-0.7204046 ,  0.69534105],\n",
              "       [ 0.8088127 , -1.355494  ],\n",
              "       [-0.07750164, -0.03603919],\n",
              "       [-1.0857546 ,  1.0689698 ],\n",
              "       [ 1.4569052 , -1.740763  ],\n",
              "       [-0.19225766,  0.00566611],\n",
              "       [ 0.3304172 , -0.518386  ],\n",
              "       [ 0.5696156 , -0.89364266],\n",
              "       [-1.3078488 ,  1.2060418 ],\n",
              "       [-0.94648516,  0.81428176],\n",
              "       [ 1.2555839 , -1.7913272 ],\n",
              "       [-1.2602288 ,  1.2848217 ],\n",
              "       [-1.1660303 ,  1.1597146 ],\n",
              "       [-0.83522254,  0.70823395],\n",
              "       [-0.83535886,  0.71064085],\n",
              "       [-0.5796813 ,  0.29414174],\n",
              "       [-1.0605966 ,  0.9975337 ],\n",
              "       [ 1.6973389 , -2.2151198 ],\n",
              "       [-0.9345244 ,  0.7102599 ],\n",
              "       [-1.2605617 ,  1.1664319 ],\n",
              "       [ 1.6816026 , -2.1430764 ],\n",
              "       [-0.9802285 ,  0.8017608 ],\n",
              "       [ 0.6793755 , -1.1167259 ],\n",
              "       [ 1.1245792 , -1.6824445 ],\n",
              "       [ 0.8051654 , -1.0718309 ]], dtype=float32)"
            ]
          },
          "execution_count": 97,
          "metadata": {},
          "output_type": "execute_result"
        }
      ],
      "source": [
        "predictions.predictions"
      ]
    },
    {
      "cell_type": "code",
      "execution_count": 98,
      "id": "409a5d73",
      "metadata": {},
      "outputs": [],
      "source": [
        "pred_labels = np.argmax(predictions.predictions, axis=1)"
      ]
    },
    {
      "cell_type": "code",
      "execution_count": 100,
      "id": "0211e8a2",
      "metadata": {},
      "outputs": [
        {
          "data": {
            "text/plain": [
              "array([0, 0, 0, 0, 0, 0, 0, 0, 0, 0, 0, 0, 1, 0, 0, 0, 0, 0, 0, 1, 0, 0,\n",
              "       0, 0, 0, 0, 0, 0, 0, 0, 0, 0, 0, 0, 0, 0, 0, 0, 0, 1, 0, 0, 0, 1,\n",
              "       0, 0, 0, 0, 0, 0, 0, 0, 0, 0, 0, 0, 0, 1, 0, 0, 0, 0, 0, 0, 0, 0,\n",
              "       0, 0, 1, 0, 0, 0, 0, 0, 1, 0, 0, 1, 0, 0, 0, 0, 1, 0, 1, 1, 1, 1,\n",
              "       0, 0, 1, 0, 1, 0, 0, 0, 1, 1, 1, 1, 1, 0, 0, 1, 0, 1, 1, 1, 1, 0,\n",
              "       1, 1, 0, 1, 0, 0, 1, 1, 0, 1, 1, 1, 1, 1, 1, 0, 1, 1, 0, 1, 0, 0,\n",
              "       0])"
            ]
          },
          "execution_count": 100,
          "metadata": {},
          "output_type": "execute_result"
        }
      ],
      "source": [
        "pred_labels"
      ]
    },
    {
      "cell_type": "code",
      "execution_count": 93,
      "id": "dcfed0ef",
      "metadata": {},
      "outputs": [],
      "source": [
        "ids = test.id\n"
      ]
    },
    {
      "cell_type": "code",
      "execution_count": 94,
      "id": "75ff32c7",
      "metadata": {},
      "outputs": [
        {
          "data": {
            "text/plain": [
              "133"
            ]
          },
          "execution_count": 94,
          "metadata": {},
          "output_type": "execute_result"
        }
      ],
      "source": [
        "len(ids)"
      ]
    },
    {
      "cell_type": "code",
      "execution_count": 95,
      "id": "619ce491",
      "metadata": {},
      "outputs": [],
      "source": [
        "df = pd.DataFrame({\n",
        "    'id': ids,\n",
        "    'polarization': pred_labels\n",
        "})"
      ]
    },
    {
      "cell_type": "code",
      "execution_count": 96,
      "id": "29877861",
      "metadata": {},
      "outputs": [
        {
          "data": {
            "text/html": [
              "<div>\n",
              "<style scoped>\n",
              "    .dataframe tbody tr th:only-of-type {\n",
              "        vertical-align: middle;\n",
              "    }\n",
              "\n",
              "    .dataframe tbody tr th {\n",
              "        vertical-align: top;\n",
              "    }\n",
              "\n",
              "    .dataframe thead th {\n",
              "        text-align: right;\n",
              "    }\n",
              "</style>\n",
              "<table border=\"1\" class=\"dataframe\">\n",
              "  <thead>\n",
              "    <tr style=\"text-align: right;\">\n",
              "      <th></th>\n",
              "      <th>id</th>\n",
              "      <th>polarization</th>\n",
              "    </tr>\n",
              "  </thead>\n",
              "  <tbody>\n",
              "    <tr>\n",
              "      <th>0</th>\n",
              "      <td>en_f66ca14d60851371f9720aaf4ccd9b58</td>\n",
              "      <td>0</td>\n",
              "    </tr>\n",
              "    <tr>\n",
              "      <th>1</th>\n",
              "      <td>en_3a489aa7fed9726aa8d3d4fe74c57efb</td>\n",
              "      <td>0</td>\n",
              "    </tr>\n",
              "    <tr>\n",
              "      <th>2</th>\n",
              "      <td>en_95770ff547ea5e48b0be00f385986483</td>\n",
              "      <td>0</td>\n",
              "    </tr>\n",
              "    <tr>\n",
              "      <th>3</th>\n",
              "      <td>en_2048ae6f9aa261c48e6d777bcc5b38bf</td>\n",
              "      <td>0</td>\n",
              "    </tr>\n",
              "    <tr>\n",
              "      <th>4</th>\n",
              "      <td>en_07781aa88e61e7c0a996abd1e5ea3a20</td>\n",
              "      <td>0</td>\n",
              "    </tr>\n",
              "    <tr>\n",
              "      <th>...</th>\n",
              "      <td>...</td>\n",
              "      <td>...</td>\n",
              "    </tr>\n",
              "    <tr>\n",
              "      <th>128</th>\n",
              "      <td>en_2fd4484b6bab80971a96b2100e20966a</td>\n",
              "      <td>0</td>\n",
              "    </tr>\n",
              "    <tr>\n",
              "      <th>129</th>\n",
              "      <td>en_0e11358da0c0e0cd8e0fdedf05a0cbba</td>\n",
              "      <td>1</td>\n",
              "    </tr>\n",
              "    <tr>\n",
              "      <th>130</th>\n",
              "      <td>en_0fb944d51bb376102a3ea6b65bafab6a</td>\n",
              "      <td>0</td>\n",
              "    </tr>\n",
              "    <tr>\n",
              "      <th>131</th>\n",
              "      <td>en_d9253eaeb206934208a57786b688c316</td>\n",
              "      <td>0</td>\n",
              "    </tr>\n",
              "    <tr>\n",
              "      <th>132</th>\n",
              "      <td>en_d841e099c41eb0fdd803e7c0a6109933</td>\n",
              "      <td>0</td>\n",
              "    </tr>\n",
              "  </tbody>\n",
              "</table>\n",
              "<p>133 rows × 2 columns</p>\n",
              "</div>"
            ],
            "text/plain": [
              "                                      id  polarization\n",
              "0    en_f66ca14d60851371f9720aaf4ccd9b58             0\n",
              "1    en_3a489aa7fed9726aa8d3d4fe74c57efb             0\n",
              "2    en_95770ff547ea5e48b0be00f385986483             0\n",
              "3    en_2048ae6f9aa261c48e6d777bcc5b38bf             0\n",
              "4    en_07781aa88e61e7c0a996abd1e5ea3a20             0\n",
              "..                                   ...           ...\n",
              "128  en_2fd4484b6bab80971a96b2100e20966a             0\n",
              "129  en_0e11358da0c0e0cd8e0fdedf05a0cbba             1\n",
              "130  en_0fb944d51bb376102a3ea6b65bafab6a             0\n",
              "131  en_d9253eaeb206934208a57786b688c316             0\n",
              "132  en_d841e099c41eb0fdd803e7c0a6109933             0\n",
              "\n",
              "[133 rows x 2 columns]"
            ]
          },
          "execution_count": 96,
          "metadata": {},
          "output_type": "execute_result"
        }
      ],
      "source": [
        "df"
      ]
    },
    {
      "cell_type": "code",
      "execution_count": 101,
      "id": "af546e1d",
      "metadata": {},
      "outputs": [],
      "source": [
        "df.to_csv(\"polarization_predictions.csv\", index=False)\n"
      ]
    },
    {
      "cell_type": "markdown",
      "id": "5Qi53eheGIbu",
      "metadata": {
        "id": "5Qi53eheGIbu"
      },
      "source": [
        "# Subtask 2: Polarization Type Classification\n",
        "Multi-label classification to identify the target of polarization as one of the following categories: Gender/Sexual, Political, Religious, Racial/Ethnic, or Other.\n",
        "For this task we will load the data for subtask 2."
      ]
    },
    {
      "cell_type": "code",
      "execution_count": 19,
      "id": "YaWIvnYv0rV2",
      "metadata": {
        "id": "YaWIvnYv0rV2"
      },
      "outputs": [
        {
          "data": {
            "text/html": [
              "<div>\n",
              "<style scoped>\n",
              "    .dataframe tbody tr th:only-of-type {\n",
              "        vertical-align: middle;\n",
              "    }\n",
              "\n",
              "    .dataframe tbody tr th {\n",
              "        vertical-align: top;\n",
              "    }\n",
              "\n",
              "    .dataframe thead th {\n",
              "        text-align: right;\n",
              "    }\n",
              "</style>\n",
              "<table border=\"1\" class=\"dataframe\">\n",
              "  <thead>\n",
              "    <tr style=\"text-align: right;\">\n",
              "      <th></th>\n",
              "      <th>id</th>\n",
              "      <th>text</th>\n",
              "      <th>political</th>\n",
              "      <th>racial/ethnic</th>\n",
              "      <th>religious</th>\n",
              "      <th>gender/sexual</th>\n",
              "      <th>other</th>\n",
              "    </tr>\n",
              "  </thead>\n",
              "  <tbody>\n",
              "    <tr>\n",
              "      <th>0</th>\n",
              "      <td>en_973938b90b0ff5d87d35a582f83f5c89</td>\n",
              "      <td>is defending imperialism in the dnd chat</td>\n",
              "      <td>0</td>\n",
              "      <td>0</td>\n",
              "      <td>0</td>\n",
              "      <td>0</td>\n",
              "      <td>0</td>\n",
              "    </tr>\n",
              "    <tr>\n",
              "      <th>1</th>\n",
              "      <td>en_07dfd4600426caca6e2c5883fcbea9ea</td>\n",
              "      <td>Still playing with this. I am now following Ra...</td>\n",
              "      <td>0</td>\n",
              "      <td>0</td>\n",
              "      <td>0</td>\n",
              "      <td>0</td>\n",
              "      <td>0</td>\n",
              "    </tr>\n",
              "    <tr>\n",
              "      <th>2</th>\n",
              "      <td>en_f14519ff2302b6cd47712073f13bc461</td>\n",
              "      <td>.senate.gov Theres 3 groups out there Republic...</td>\n",
              "      <td>0</td>\n",
              "      <td>0</td>\n",
              "      <td>0</td>\n",
              "      <td>0</td>\n",
              "      <td>0</td>\n",
              "    </tr>\n",
              "    <tr>\n",
              "      <th>3</th>\n",
              "      <td>en_e48b7e7542faafa544ac57b64bc80daf</td>\n",
              "      <td>\"ABC MD, David Anderson, said the additional f...</td>\n",
              "      <td>0</td>\n",
              "      <td>0</td>\n",
              "      <td>0</td>\n",
              "      <td>0</td>\n",
              "      <td>0</td>\n",
              "    </tr>\n",
              "    <tr>\n",
              "      <th>4</th>\n",
              "      <td>en_7c581fb77bce8033aeba3d6dbd6273eb</td>\n",
              "      <td>\"bad people\" I have some conservative values s...</td>\n",
              "      <td>0</td>\n",
              "      <td>0</td>\n",
              "      <td>0</td>\n",
              "      <td>0</td>\n",
              "      <td>0</td>\n",
              "    </tr>\n",
              "  </tbody>\n",
              "</table>\n",
              "</div>"
            ],
            "text/plain": [
              "                                    id  \\\n",
              "0  en_973938b90b0ff5d87d35a582f83f5c89   \n",
              "1  en_07dfd4600426caca6e2c5883fcbea9ea   \n",
              "2  en_f14519ff2302b6cd47712073f13bc461   \n",
              "3  en_e48b7e7542faafa544ac57b64bc80daf   \n",
              "4  en_7c581fb77bce8033aeba3d6dbd6273eb   \n",
              "\n",
              "                                                text  political  \\\n",
              "0           is defending imperialism in the dnd chat          0   \n",
              "1  Still playing with this. I am now following Ra...          0   \n",
              "2  .senate.gov Theres 3 groups out there Republic...          0   \n",
              "3  \"ABC MD, David Anderson, said the additional f...          0   \n",
              "4  \"bad people\" I have some conservative values s...          0   \n",
              "\n",
              "   racial/ethnic  religious  gender/sexual  other  \n",
              "0              0          0              0      0  \n",
              "1              0          0              0      0  \n",
              "2              0          0              0      0  \n",
              "3              0          0              0      0  \n",
              "4              0          0              0      0  "
            ]
          },
          "execution_count": 19,
          "metadata": {},
          "output_type": "execute_result"
        }
      ],
      "source": [
        "train = pd.read_csv('subtask2/train/eng.csv')\n",
        "val = pd.read_csv('subtask2/train/eng.csv')\n",
        "train.head()"
      ]
    },
    {
      "cell_type": "code",
      "execution_count": 20,
      "id": "I6S2S6QBDKzw",
      "metadata": {
        "id": "I6S2S6QBDKzw"
      },
      "outputs": [],
      "source": [
        "# Fix the dataset class by inheriting from torch.utils.data.Dataset\n",
        "class PolarizationDataset(torch.utils.data.Dataset):\n",
        "    def __init__(self, texts, labels, tokenizer, max_length=128):\n",
        "        self.texts = texts\n",
        "        self.labels = labels\n",
        "        self.tokenizer = tokenizer\n",
        "        self.max_length = max_length # Store max_length\n",
        "\n",
        "    def __len__(self):\n",
        "        return len(self.texts)\n",
        "\n",
        "    def __getitem__(self, idx):\n",
        "        text = self.texts[idx]\n",
        "        label = self.labels[idx]\n",
        "        encoding = self.tokenizer(text, truncation=True, padding=False, max_length=self.max_length, return_tensors='pt')\n",
        "\n",
        "        # Ensure consistent tensor conversion for all items\n",
        "        item = {key: encoding[key].squeeze() for key in encoding.keys()}\n",
        "        # CHANGE THIS LINE: Use torch.float instead of torch.long for multi-label classification\n",
        "        item['labels'] = torch.tensor(label, dtype=torch.float)\n",
        "        return item\n"
      ]
    },
    {
      "cell_type": "code",
      "execution_count": 21,
      "id": "u1_KYsG68nxI",
      "metadata": {
        "id": "u1_KYsG68nxI"
      },
      "outputs": [],
      "source": [
        "# Load the tokenizer\n",
        "tokenizer = AutoTokenizer.from_pretrained('bert-base-uncased')\n",
        "\n",
        "# Create train and Test dataset for multilabel\n",
        "train_dataset = PolarizationDataset(train['text'].tolist(), train[['gender/sexual','political','religious','racial/ethnic','other']].values.tolist(), tokenizer)\n",
        "val_dataset = PolarizationDataset(val['text'].tolist(), val[['gender/sexual','political','religious','racial/ethnic','other']].values.tolist(), tokenizer)\n",
        "dev_dataset = PolarizationDataset(val['text'].tolist(), val[['gender/sexual','political','religious','racial/ethnic','other']].values.tolist(), tokenizer)\n"
      ]
    },
    {
      "cell_type": "code",
      "execution_count": 22,
      "id": "cdiYJyr08bw2",
      "metadata": {
        "id": "cdiYJyr08bw2"
      },
      "outputs": [
        {
          "name": "stderr",
          "output_type": "stream",
          "text": [
            "Some weights of BertForSequenceClassification were not initialized from the model checkpoint at bert-base-uncased and are newly initialized: ['classifier.bias', 'classifier.weight']\n",
            "You should probably TRAIN this model on a down-stream task to be able to use it for predictions and inference.\n"
          ]
        }
      ],
      "source": [
        "# Load the model\n",
        "model = AutoModelForSequenceClassification.from_pretrained('bert-base-uncased', num_labels=5, problem_type=\"multi_label_classification\") # 5 labels"
      ]
    },
    {
      "cell_type": "code",
      "execution_count": 23,
      "id": "ArVWKwze2mtS",
      "metadata": {
        "id": "ArVWKwze2mtS"
      },
      "outputs": [],
      "source": [
        "# Define metrics function for multi-label classification\n",
        "def compute_metrics_multilabel(p):\n",
        "    # Sigmoid the predictions to get probabilities\n",
        "    probs = torch.sigmoid(torch.from_numpy(p.predictions))\n",
        "    # Convert probabilities to predicted labels (0 or 1)\n",
        "    preds = (probs > 0.5).int().numpy()\n",
        "    # Compute macro F1 score\n",
        "    return {'f1_macro': f1_score(p.label_ids, preds, average='macro')}\n",
        "\n",
        "# Define training arguments\n",
        "training_args = TrainingArguments(\n",
        "    output_dir=f\"./\",\n",
        "    num_train_epochs=3,\n",
        "    learning_rate=2e-5,\n",
        "    per_device_train_batch_size=8,\n",
        "    per_device_eval_batch_size=8,\n",
        "    eval_strategy=\"epoch\",\n",
        "    save_strategy=\"no\",\n",
        "    logging_steps=100,\n",
        "    disable_tqdm=False\n",
        ")"
      ]
    },
    {
      "cell_type": "code",
      "execution_count": 24,
      "id": "Qd3QPyfc2RKE",
      "metadata": {
        "id": "Qd3QPyfc2RKE"
      },
      "outputs": [
        {
          "name": "stderr",
          "output_type": "stream",
          "text": [
            "A ConfigError was raised whilst setting the number of model parameters in Weights & Biases config.\n",
            "/Users/tejo9855/Documents/Classes/Fall '25/NLP - Martin/Assignments/SemEval2026-task9/.venv/lib/python3.13/site-packages/torch/utils/data/dataloader.py:692: UserWarning: 'pin_memory' argument is set as true but not supported on MPS now, device pinned memory won't be used.\n",
            "  warnings.warn(warn_msg)\n"
          ]
        },
        {
          "data": {
            "text/html": [
              "\n",
              "    <div>\n",
              "      \n",
              "      <progress value='1005' max='1005' style='width:300px; height:20px; vertical-align: middle;'></progress>\n",
              "      [1005/1005 02:57, Epoch 3/3]\n",
              "    </div>\n",
              "    <table border=\"1\" class=\"dataframe\">\n",
              "  <thead>\n",
              " <tr style=\"text-align: left;\">\n",
              "      <th>Epoch</th>\n",
              "      <th>Training Loss</th>\n",
              "      <th>Validation Loss</th>\n",
              "      <th>F1 Macro</th>\n",
              "    </tr>\n",
              "  </thead>\n",
              "  <tbody>\n",
              "    <tr>\n",
              "      <td>1</td>\n",
              "      <td>0.230100</td>\n",
              "      <td>0.180045</td>\n",
              "      <td>0.239544</td>\n",
              "    </tr>\n",
              "    <tr>\n",
              "      <td>2</td>\n",
              "      <td>0.174300</td>\n",
              "      <td>0.124341</td>\n",
              "      <td>0.459029</td>\n",
              "    </tr>\n",
              "    <tr>\n",
              "      <td>3</td>\n",
              "      <td>0.147300</td>\n",
              "      <td>0.106562</td>\n",
              "      <td>0.508902</td>\n",
              "    </tr>\n",
              "  </tbody>\n",
              "</table><p>"
            ],
            "text/plain": [
              "<IPython.core.display.HTML object>"
            ]
          },
          "metadata": {},
          "output_type": "display_data"
        },
        {
          "name": "stderr",
          "output_type": "stream",
          "text": [
            "/Users/tejo9855/Documents/Classes/Fall '25/NLP - Martin/Assignments/SemEval2026-task9/.venv/lib/python3.13/site-packages/torch/utils/data/dataloader.py:692: UserWarning: 'pin_memory' argument is set as true but not supported on MPS now, device pinned memory won't be used.\n",
            "  warnings.warn(warn_msg)\n",
            "/Users/tejo9855/Documents/Classes/Fall '25/NLP - Martin/Assignments/SemEval2026-task9/.venv/lib/python3.13/site-packages/torch/utils/data/dataloader.py:692: UserWarning: 'pin_memory' argument is set as true but not supported on MPS now, device pinned memory won't be used.\n",
            "  warnings.warn(warn_msg)\n",
            "/Users/tejo9855/Documents/Classes/Fall '25/NLP - Martin/Assignments/SemEval2026-task9/.venv/lib/python3.13/site-packages/torch/utils/data/dataloader.py:692: UserWarning: 'pin_memory' argument is set as true but not supported on MPS now, device pinned memory won't be used.\n",
            "  warnings.warn(warn_msg)\n"
          ]
        },
        {
          "data": {
            "text/html": [
              "\n",
              "    <div>\n",
              "      \n",
              "      <progress value='335' max='335' style='width:300px; height:20px; vertical-align: middle;'></progress>\n",
              "      [335/335 00:09]\n",
              "    </div>\n",
              "    "
            ],
            "text/plain": [
              "<IPython.core.display.HTML object>"
            ]
          },
          "metadata": {},
          "output_type": "display_data"
        },
        {
          "name": "stdout",
          "output_type": "stream",
          "text": [
            "Macro F1 score on validation set for Subtask 2: 0.5089023985811894\n"
          ]
        }
      ],
      "source": [
        "# Initialize the Trainer\n",
        "trainer = Trainer(\n",
        "    model=model,\n",
        "    args=training_args,\n",
        "    train_dataset=train_dataset,\n",
        "    eval_dataset=val_dataset,\n",
        "    compute_metrics=compute_metrics_multilabel,  # Use the new metrics function\n",
        "    data_collator=DataCollatorWithPadding(tokenizer)\n",
        ")\n",
        "\n",
        "# Train the model\n",
        "trainer.train()\n",
        "\n",
        "# Evaluate the model on the validation set\n",
        "eval_results = trainer.evaluate()\n",
        "print(f\"Macro F1 score on validation set for Subtask 2: {eval_results['eval_f1_macro']}\")"
      ]
    },
    {
      "cell_type": "markdown",
      "id": "UL1uE8llIgTQ",
      "metadata": {
        "id": "UL1uE8llIgTQ"
      },
      "source": [
        "# Subtask 3: Manifestation Identification\n",
        "Multi-label classification to classify how polarization is expressed, with multiple possible labels including Vilification, Extreme Language, Stereotype, Invalidation, Lack of Empathy, and Dehumanization.\n",
        "\n"
      ]
    },
    {
      "cell_type": "code",
      "execution_count": 25,
      "id": "nCz20cgl-K3t",
      "metadata": {
        "id": "nCz20cgl-K3t"
      },
      "outputs": [
        {
          "data": {
            "text/html": [
              "<div>\n",
              "<style scoped>\n",
              "    .dataframe tbody tr th:only-of-type {\n",
              "        vertical-align: middle;\n",
              "    }\n",
              "\n",
              "    .dataframe tbody tr th {\n",
              "        vertical-align: top;\n",
              "    }\n",
              "\n",
              "    .dataframe thead th {\n",
              "        text-align: right;\n",
              "    }\n",
              "</style>\n",
              "<table border=\"1\" class=\"dataframe\">\n",
              "  <thead>\n",
              "    <tr style=\"text-align: right;\">\n",
              "      <th></th>\n",
              "      <th>id</th>\n",
              "      <th>text</th>\n",
              "      <th>stereotype</th>\n",
              "      <th>vilification</th>\n",
              "      <th>dehumanization</th>\n",
              "      <th>extreme_language</th>\n",
              "      <th>lack_of_empathy</th>\n",
              "      <th>invalidation</th>\n",
              "    </tr>\n",
              "  </thead>\n",
              "  <tbody>\n",
              "    <tr>\n",
              "      <th>0</th>\n",
              "      <td>en_973938b90b0ff5d87d35a582f83f5c89</td>\n",
              "      <td>is defending imperialism in the dnd chat</td>\n",
              "      <td>0</td>\n",
              "      <td>0</td>\n",
              "      <td>0</td>\n",
              "      <td>0</td>\n",
              "      <td>0</td>\n",
              "      <td>0</td>\n",
              "    </tr>\n",
              "    <tr>\n",
              "      <th>1</th>\n",
              "      <td>en_07dfd4600426caca6e2c5883fcbea9ea</td>\n",
              "      <td>Still playing with this. I am now following Ra...</td>\n",
              "      <td>0</td>\n",
              "      <td>0</td>\n",
              "      <td>0</td>\n",
              "      <td>0</td>\n",
              "      <td>0</td>\n",
              "      <td>0</td>\n",
              "    </tr>\n",
              "    <tr>\n",
              "      <th>2</th>\n",
              "      <td>en_f14519ff2302b6cd47712073f13bc461</td>\n",
              "      <td>.senate.gov Theres 3 groups out there Republic...</td>\n",
              "      <td>0</td>\n",
              "      <td>0</td>\n",
              "      <td>0</td>\n",
              "      <td>0</td>\n",
              "      <td>0</td>\n",
              "      <td>0</td>\n",
              "    </tr>\n",
              "    <tr>\n",
              "      <th>3</th>\n",
              "      <td>en_e48b7e7542faafa544ac57b64bc80daf</td>\n",
              "      <td>\"ABC MD, David Anderson, said the additional f...</td>\n",
              "      <td>0</td>\n",
              "      <td>0</td>\n",
              "      <td>0</td>\n",
              "      <td>0</td>\n",
              "      <td>0</td>\n",
              "      <td>0</td>\n",
              "    </tr>\n",
              "    <tr>\n",
              "      <th>4</th>\n",
              "      <td>en_7c581fb77bce8033aeba3d6dbd6273eb</td>\n",
              "      <td>\"bad people\" I have some conservative values s...</td>\n",
              "      <td>0</td>\n",
              "      <td>0</td>\n",
              "      <td>0</td>\n",
              "      <td>0</td>\n",
              "      <td>0</td>\n",
              "      <td>0</td>\n",
              "    </tr>\n",
              "  </tbody>\n",
              "</table>\n",
              "</div>"
            ],
            "text/plain": [
              "                                    id  \\\n",
              "0  en_973938b90b0ff5d87d35a582f83f5c89   \n",
              "1  en_07dfd4600426caca6e2c5883fcbea9ea   \n",
              "2  en_f14519ff2302b6cd47712073f13bc461   \n",
              "3  en_e48b7e7542faafa544ac57b64bc80daf   \n",
              "4  en_7c581fb77bce8033aeba3d6dbd6273eb   \n",
              "\n",
              "                                                text  stereotype  \\\n",
              "0           is defending imperialism in the dnd chat           0   \n",
              "1  Still playing with this. I am now following Ra...           0   \n",
              "2  .senate.gov Theres 3 groups out there Republic...           0   \n",
              "3  \"ABC MD, David Anderson, said the additional f...           0   \n",
              "4  \"bad people\" I have some conservative values s...           0   \n",
              "\n",
              "   vilification  dehumanization  extreme_language  lack_of_empathy  \\\n",
              "0             0               0                 0                0   \n",
              "1             0               0                 0                0   \n",
              "2             0               0                 0                0   \n",
              "3             0               0                 0                0   \n",
              "4             0               0                 0                0   \n",
              "\n",
              "   invalidation  \n",
              "0             0  \n",
              "1             0  \n",
              "2             0  \n",
              "3             0  \n",
              "4             0  "
            ]
          },
          "execution_count": 25,
          "metadata": {},
          "output_type": "execute_result"
        }
      ],
      "source": [
        "train = pd.read_csv('subtask3/train/eng.csv')\n",
        "val = pd.read_csv('subtask3/train/eng.csv')\n",
        "\n",
        "train.head()"
      ]
    },
    {
      "cell_type": "code",
      "execution_count": 26,
      "id": "Qs-UjVYsInpD",
      "metadata": {
        "id": "Qs-UjVYsInpD"
      },
      "outputs": [],
      "source": [
        "# Fix the dataset class by inheriting from torch.utils.data.Dataset\n",
        "class PolarizationDataset(torch.utils.data.Dataset):\n",
        "    def __init__(self, texts, labels, tokenizer, max_length=128):\n",
        "        self.texts = texts\n",
        "        self.labels = labels\n",
        "        self.tokenizer = tokenizer\n",
        "        self.max_length = max_length # Store max_length\n",
        "\n",
        "    def __len__(self):\n",
        "        return len(self.texts)\n",
        "\n",
        "    def __getitem__(self, idx):\n",
        "        text = self.texts[idx]\n",
        "        label = self.labels[idx]\n",
        "        encoding = self.tokenizer(text, truncation=True, padding=False, max_length=self.max_length, return_tensors='pt')\n",
        "\n",
        "        # Ensure consistent tensor conversion for all items\n",
        "        item = {key: encoding[key].squeeze() for key in encoding.keys()}\n",
        "        # CHANGE THIS LINE: Use torch.float instead of torch.long for multi-label classification\n",
        "        item['labels'] = torch.tensor(label, dtype=torch.float)\n",
        "        return item"
      ]
    },
    {
      "cell_type": "code",
      "execution_count": 27,
      "id": "-yxSaDCA9IMi",
      "metadata": {
        "id": "-yxSaDCA9IMi"
      },
      "outputs": [],
      "source": [
        "# Load the tokenizer\n",
        "tokenizer = AutoTokenizer.from_pretrained('bert-base-uncased')\n",
        "\n",
        "# Create train and Test dataset for multilabel\n",
        "train_dataset = PolarizationDataset(train['text'].tolist(), train[['vilification','extreme_language','stereotype','invalidation','lack_of_empathy','dehumanization']].values.tolist(), tokenizer)\n",
        "val_dataset = PolarizationDataset(val['text'].tolist(), val[['vilification','extreme_language','stereotype','invalidation','lack_of_empathy','dehumanization']].values.tolist(), tokenizer)"
      ]
    },
    {
      "cell_type": "code",
      "execution_count": 28,
      "id": "0VXqqqIH9A3M",
      "metadata": {
        "id": "0VXqqqIH9A3M"
      },
      "outputs": [
        {
          "name": "stderr",
          "output_type": "stream",
          "text": [
            "Some weights of BertForSequenceClassification were not initialized from the model checkpoint at bert-base-uncased and are newly initialized: ['classifier.bias', 'classifier.weight']\n",
            "You should probably TRAIN this model on a down-stream task to be able to use it for predictions and inference.\n"
          ]
        }
      ],
      "source": [
        "# Load the model\n",
        "model = AutoModelForSequenceClassification.from_pretrained('bert-base-uncased', num_labels=6, problem_type=\"multi_label_classification\") # use 6 labels"
      ]
    },
    {
      "cell_type": "code",
      "execution_count": 29,
      "id": "QLubGtx988hm",
      "metadata": {
        "id": "QLubGtx988hm"
      },
      "outputs": [],
      "source": [
        "# Define training arguments\n",
        "training_args = TrainingArguments(\n",
        "    output_dir=f\"./\",\n",
        "    num_train_epochs=3,\n",
        "    learning_rate=2e-5,\n",
        "    per_device_train_batch_size=8,\n",
        "    per_device_eval_batch_size=8,\n",
        "    eval_strategy=\"epoch\",\n",
        "    save_strategy=\"no\",\n",
        "    logging_steps=100,\n",
        "    disable_tqdm=False\n",
        ")\n",
        "\n",
        "# Define metrics function for multi-label classification\n",
        "def compute_metrics_multilabel(p):\n",
        "    # Sigmoid the predictions to get probabilities\n",
        "    probs = torch.sigmoid(torch.from_numpy(p.predictions))\n",
        "    # Convert probabilities to predicted labels (0 or 1)\n",
        "    preds = (probs > 0.5).int().numpy()\n",
        "    # Compute macro F1 score\n",
        "    return {'f1_macro': f1_score(p.label_ids, preds, average='macro')}"
      ]
    },
    {
      "cell_type": "code",
      "execution_count": 30,
      "id": "qEhm1TEv82mP",
      "metadata": {
        "id": "qEhm1TEv82mP"
      },
      "outputs": [
        {
          "name": "stderr",
          "output_type": "stream",
          "text": [
            "A ConfigError was raised whilst setting the number of model parameters in Weights & Biases config.\n",
            "/Users/tejo9855/Documents/Classes/Fall '25/NLP - Martin/Assignments/SemEval2026-task9/.venv/lib/python3.13/site-packages/torch/utils/data/dataloader.py:692: UserWarning: 'pin_memory' argument is set as true but not supported on MPS now, device pinned memory won't be used.\n",
            "  warnings.warn(warn_msg)\n"
          ]
        },
        {
          "data": {
            "text/html": [
              "\n",
              "    <div>\n",
              "      \n",
              "      <progress value='1005' max='1005' style='width:300px; height:20px; vertical-align: middle;'></progress>\n",
              "      [1005/1005 02:54, Epoch 3/3]\n",
              "    </div>\n",
              "    <table border=\"1\" class=\"dataframe\">\n",
              "  <thead>\n",
              " <tr style=\"text-align: left;\">\n",
              "      <th>Epoch</th>\n",
              "      <th>Training Loss</th>\n",
              "      <th>Validation Loss</th>\n",
              "      <th>F1 Macro</th>\n",
              "    </tr>\n",
              "  </thead>\n",
              "  <tbody>\n",
              "    <tr>\n",
              "      <td>1</td>\n",
              "      <td>0.408500</td>\n",
              "      <td>0.351823</td>\n",
              "      <td>0.395926</td>\n",
              "    </tr>\n",
              "    <tr>\n",
              "      <td>2</td>\n",
              "      <td>0.339700</td>\n",
              "      <td>0.289207</td>\n",
              "      <td>0.495095</td>\n",
              "    </tr>\n",
              "    <tr>\n",
              "      <td>3</td>\n",
              "      <td>0.314100</td>\n",
              "      <td>0.269080</td>\n",
              "      <td>0.574290</td>\n",
              "    </tr>\n",
              "  </tbody>\n",
              "</table><p>"
            ],
            "text/plain": [
              "<IPython.core.display.HTML object>"
            ]
          },
          "metadata": {},
          "output_type": "display_data"
        },
        {
          "name": "stderr",
          "output_type": "stream",
          "text": [
            "/Users/tejo9855/Documents/Classes/Fall '25/NLP - Martin/Assignments/SemEval2026-task9/.venv/lib/python3.13/site-packages/torch/utils/data/dataloader.py:692: UserWarning: 'pin_memory' argument is set as true but not supported on MPS now, device pinned memory won't be used.\n",
            "  warnings.warn(warn_msg)\n",
            "/Users/tejo9855/Documents/Classes/Fall '25/NLP - Martin/Assignments/SemEval2026-task9/.venv/lib/python3.13/site-packages/torch/utils/data/dataloader.py:692: UserWarning: 'pin_memory' argument is set as true but not supported on MPS now, device pinned memory won't be used.\n",
            "  warnings.warn(warn_msg)\n",
            "/Users/tejo9855/Documents/Classes/Fall '25/NLP - Martin/Assignments/SemEval2026-task9/.venv/lib/python3.13/site-packages/torch/utils/data/dataloader.py:692: UserWarning: 'pin_memory' argument is set as true but not supported on MPS now, device pinned memory won't be used.\n",
            "  warnings.warn(warn_msg)\n"
          ]
        },
        {
          "data": {
            "text/html": [],
            "text/plain": [
              "<IPython.core.display.HTML object>"
            ]
          },
          "metadata": {},
          "output_type": "display_data"
        },
        {
          "name": "stdout",
          "output_type": "stream",
          "text": [
            "Macro F1 score on validation set for Subtask 3: 0.5742903939114335\n"
          ]
        }
      ],
      "source": [
        "# Initialize the Trainer\n",
        "trainer = Trainer(\n",
        "    model=model,\n",
        "    args=training_args,\n",
        "    train_dataset=train_dataset,\n",
        "    eval_dataset=val_dataset,\n",
        "    compute_metrics=compute_metrics_multilabel,  # Use the new metrics function\n",
        "    data_collator=DataCollatorWithPadding(tokenizer)\n",
        ")\n",
        "\n",
        "# Train the model\n",
        "trainer.train()\n",
        "\n",
        "# Evaluate the model on the validation set\n",
        "eval_results = trainer.evaluate()\n",
        "print(f\"Macro F1 score on validation set for Subtask 3: {eval_results['eval_f1_macro']}\")"
      ]
    },
    {
      "cell_type": "code",
      "execution_count": null,
      "id": "eeb424de",
      "metadata": {},
      "outputs": [],
      "source": []
    }
  ],
  "metadata": {
    "accelerator": "GPU",
    "colab": {
      "gpuType": "T4",
      "provenance": []
    },
    "kernelspec": {
      "display_name": ".venv",
      "language": "python",
      "name": "python3"
    },
    "language_info": {
      "codemirror_mode": {
        "name": "ipython",
        "version": 3
      },
      "file_extension": ".py",
      "mimetype": "text/x-python",
      "name": "python",
      "nbconvert_exporter": "python",
      "pygments_lexer": "ipython3",
      "version": "3.13.7"
    }
  },
  "nbformat": 4,
  "nbformat_minor": 5
}
